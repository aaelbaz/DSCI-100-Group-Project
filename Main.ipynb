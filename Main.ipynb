{
 "cells": [
  {
   "cell_type": "code",
   "execution_count": 2,
   "id": "b5571149-e6ca-450c-95f8-cc4f470d6144",
   "metadata": {},
   "outputs": [
    {
     "name": "stderr",
     "output_type": "stream",
     "text": [
      "── \u001b[1mAttaching core tidyverse packages\u001b[22m ──────────────────────── tidyverse 2.0.0 ──\n",
      "\u001b[32m✔\u001b[39m \u001b[34mdplyr    \u001b[39m 1.1.3     \u001b[32m✔\u001b[39m \u001b[34mreadr    \u001b[39m 2.1.4\n",
      "\u001b[32m✔\u001b[39m \u001b[34mforcats  \u001b[39m 1.0.0     \u001b[32m✔\u001b[39m \u001b[34mstringr  \u001b[39m 1.5.0\n",
      "\u001b[32m✔\u001b[39m \u001b[34mggplot2  \u001b[39m 3.4.4     \u001b[32m✔\u001b[39m \u001b[34mtibble   \u001b[39m 3.2.1\n",
      "\u001b[32m✔\u001b[39m \u001b[34mlubridate\u001b[39m 1.9.3     \u001b[32m✔\u001b[39m \u001b[34mtidyr    \u001b[39m 1.3.0\n",
      "\u001b[32m✔\u001b[39m \u001b[34mpurrr    \u001b[39m 1.0.2     \n",
      "── \u001b[1mConflicts\u001b[22m ────────────────────────────────────────── tidyverse_conflicts() ──\n",
      "\u001b[31m✖\u001b[39m \u001b[34mdplyr\u001b[39m::\u001b[32mfilter()\u001b[39m masks \u001b[34mstats\u001b[39m::filter()\n",
      "\u001b[31m✖\u001b[39m \u001b[34mdplyr\u001b[39m::\u001b[32mlag()\u001b[39m    masks \u001b[34mstats\u001b[39m::lag()\n",
      "\u001b[36mℹ\u001b[39m Use the conflicted package (\u001b[3m\u001b[34m<http://conflicted.r-lib.org/>\u001b[39m\u001b[23m) to force all conflicts to become errors\n"
     ]
    }
   ],
   "source": [
    "library(tidyverse)"
   ]
  },
  {
   "cell_type": "code",
   "execution_count": 3,
   "id": "0ff1f8fb-29f0-40ac-ba39-524ac6bef1ce",
   "metadata": {},
   "outputs": [
    {
     "name": "stderr",
     "output_type": "stream",
     "text": [
      "\u001b[1mRows: \u001b[22m\u001b[34m123\u001b[39m \u001b[1mColumns: \u001b[22m\u001b[34m14\u001b[39m\n",
      "\u001b[36m──\u001b[39m \u001b[1mColumn specification\u001b[22m \u001b[36m────────────────────────────────────────────────────────\u001b[39m\n",
      "\u001b[1mDelimiter:\u001b[22m \",\"\n",
      "\u001b[31mchr\u001b[39m (9): trestbps, fbs, restecg, thalach, exang, oldpeak, slope, ca, thal\n",
      "\u001b[32mdbl\u001b[39m (5): age, sex, cp, chol, num\n",
      "\n",
      "\u001b[36mℹ\u001b[39m Use `spec()` to retrieve the full column specification for this data.\n",
      "\u001b[36mℹ\u001b[39m Specify the column types or set `show_col_types = FALSE` to quiet this message.\n",
      "\u001b[1mRows: \u001b[22m\u001b[34m294\u001b[39m \u001b[1mColumns: \u001b[22m\u001b[34m14\u001b[39m\n",
      "\u001b[36m──\u001b[39m \u001b[1mColumn specification\u001b[22m \u001b[36m────────────────────────────────────────────────────────\u001b[39m\n",
      "\u001b[1mDelimiter:\u001b[22m \",\"\n",
      "\u001b[31mchr\u001b[39m (9): trestbps, chol, fbs, restecg, thalach, exang, slope, ca, thal\n",
      "\u001b[32mdbl\u001b[39m (5): age, sex, cp, oldpeak, num\n",
      "\n",
      "\u001b[36mℹ\u001b[39m Use `spec()` to retrieve the full column specification for this data.\n",
      "\u001b[36mℹ\u001b[39m Specify the column types or set `show_col_types = FALSE` to quiet this message.\n"
     ]
    },
    {
     "data": {
      "text/html": [
       "<table class=\"dataframe\">\n",
       "<caption>A tibble: 6 × 14</caption>\n",
       "<thead>\n",
       "\t<tr><th scope=col>age</th><th scope=col>sex</th><th scope=col>cp</th><th scope=col>trestbps</th><th scope=col>chol</th><th scope=col>fbs</th><th scope=col>restecg</th><th scope=col>thalach</th><th scope=col>exang</th><th scope=col>oldpeak</th><th scope=col>slope</th><th scope=col>ca</th><th scope=col>thal</th><th scope=col>num</th></tr>\n",
       "\t<tr><th scope=col>&lt;dbl&gt;</th><th scope=col>&lt;dbl&gt;</th><th scope=col>&lt;dbl&gt;</th><th scope=col>&lt;chr&gt;</th><th scope=col>&lt;dbl&gt;</th><th scope=col>&lt;chr&gt;</th><th scope=col>&lt;chr&gt;</th><th scope=col>&lt;chr&gt;</th><th scope=col>&lt;chr&gt;</th><th scope=col>&lt;chr&gt;</th><th scope=col>&lt;chr&gt;</th><th scope=col>&lt;chr&gt;</th><th scope=col>&lt;chr&gt;</th><th scope=col>&lt;dbl&gt;</th></tr>\n",
       "</thead>\n",
       "<tbody>\n",
       "\t<tr><td>32</td><td>1</td><td>1</td><td>95 </td><td>0</td><td>?</td><td>0</td><td>127</td><td>0</td><td>.7 </td><td>1</td><td>?</td><td>?</td><td>1</td></tr>\n",
       "\t<tr><td>34</td><td>1</td><td>4</td><td>115</td><td>0</td><td>?</td><td>?</td><td>154</td><td>0</td><td>.2 </td><td>1</td><td>?</td><td>?</td><td>1</td></tr>\n",
       "\t<tr><td>35</td><td>1</td><td>4</td><td>?  </td><td>0</td><td>?</td><td>0</td><td>130</td><td>1</td><td>?  </td><td>?</td><td>?</td><td>7</td><td>3</td></tr>\n",
       "\t<tr><td>36</td><td>1</td><td>4</td><td>110</td><td>0</td><td>?</td><td>0</td><td>125</td><td>1</td><td>1  </td><td>2</td><td>?</td><td>6</td><td>1</td></tr>\n",
       "\t<tr><td>38</td><td>0</td><td>4</td><td>105</td><td>0</td><td>?</td><td>0</td><td>166</td><td>0</td><td>2.8</td><td>1</td><td>?</td><td>?</td><td>2</td></tr>\n",
       "\t<tr><td>38</td><td>0</td><td>4</td><td>110</td><td>0</td><td>0</td><td>0</td><td>156</td><td>0</td><td>0  </td><td>2</td><td>?</td><td>3</td><td>1</td></tr>\n",
       "</tbody>\n",
       "</table>\n"
      ],
      "text/latex": [
       "A tibble: 6 × 14\n",
       "\\begin{tabular}{llllllllllllll}\n",
       " age & sex & cp & trestbps & chol & fbs & restecg & thalach & exang & oldpeak & slope & ca & thal & num\\\\\n",
       " <dbl> & <dbl> & <dbl> & <chr> & <dbl> & <chr> & <chr> & <chr> & <chr> & <chr> & <chr> & <chr> & <chr> & <dbl>\\\\\n",
       "\\hline\n",
       "\t 32 & 1 & 1 & 95  & 0 & ? & 0 & 127 & 0 & .7  & 1 & ? & ? & 1\\\\\n",
       "\t 34 & 1 & 4 & 115 & 0 & ? & ? & 154 & 0 & .2  & 1 & ? & ? & 1\\\\\n",
       "\t 35 & 1 & 4 & ?   & 0 & ? & 0 & 130 & 1 & ?   & ? & ? & 7 & 3\\\\\n",
       "\t 36 & 1 & 4 & 110 & 0 & ? & 0 & 125 & 1 & 1   & 2 & ? & 6 & 1\\\\\n",
       "\t 38 & 0 & 4 & 105 & 0 & ? & 0 & 166 & 0 & 2.8 & 1 & ? & ? & 2\\\\\n",
       "\t 38 & 0 & 4 & 110 & 0 & 0 & 0 & 156 & 0 & 0   & 2 & ? & 3 & 1\\\\\n",
       "\\end{tabular}\n"
      ],
      "text/markdown": [
       "\n",
       "A tibble: 6 × 14\n",
       "\n",
       "| age &lt;dbl&gt; | sex &lt;dbl&gt; | cp &lt;dbl&gt; | trestbps &lt;chr&gt; | chol &lt;dbl&gt; | fbs &lt;chr&gt; | restecg &lt;chr&gt; | thalach &lt;chr&gt; | exang &lt;chr&gt; | oldpeak &lt;chr&gt; | slope &lt;chr&gt; | ca &lt;chr&gt; | thal &lt;chr&gt; | num &lt;dbl&gt; |\n",
       "|---|---|---|---|---|---|---|---|---|---|---|---|---|---|\n",
       "| 32 | 1 | 1 | 95  | 0 | ? | 0 | 127 | 0 | .7  | 1 | ? | ? | 1 |\n",
       "| 34 | 1 | 4 | 115 | 0 | ? | ? | 154 | 0 | .2  | 1 | ? | ? | 1 |\n",
       "| 35 | 1 | 4 | ?   | 0 | ? | 0 | 130 | 1 | ?   | ? | ? | 7 | 3 |\n",
       "| 36 | 1 | 4 | 110 | 0 | ? | 0 | 125 | 1 | 1   | 2 | ? | 6 | 1 |\n",
       "| 38 | 0 | 4 | 105 | 0 | ? | 0 | 166 | 0 | 2.8 | 1 | ? | ? | 2 |\n",
       "| 38 | 0 | 4 | 110 | 0 | 0 | 0 | 156 | 0 | 0   | 2 | ? | 3 | 1 |\n",
       "\n"
      ],
      "text/plain": [
       "  age sex cp trestbps chol fbs restecg thalach exang oldpeak slope ca thal num\n",
       "1 32  1   1  95       0    ?   0       127     0     .7      1     ?  ?    1  \n",
       "2 34  1   4  115      0    ?   ?       154     0     .2      1     ?  ?    1  \n",
       "3 35  1   4  ?        0    ?   0       130     1     ?       ?     ?  7    3  \n",
       "4 36  1   4  110      0    ?   0       125     1     1       2     ?  6    1  \n",
       "5 38  0   4  105      0    ?   0       166     0     2.8     1     ?  ?    2  \n",
       "6 38  0   4  110      0    0   0       156     0     0       2     ?  3    1  "
      ]
     },
     "metadata": {},
     "output_type": "display_data"
    },
    {
     "data": {
      "text/html": [
       "<table class=\"dataframe\">\n",
       "<caption>A tibble: 6 × 14</caption>\n",
       "<thead>\n",
       "\t<tr><th scope=col>age</th><th scope=col>sex</th><th scope=col>cp</th><th scope=col>trestbps</th><th scope=col>chol</th><th scope=col>fbs</th><th scope=col>restecg</th><th scope=col>thalach</th><th scope=col>exang</th><th scope=col>oldpeak</th><th scope=col>slope</th><th scope=col>ca</th><th scope=col>thal</th><th scope=col>num</th></tr>\n",
       "\t<tr><th scope=col>&lt;dbl&gt;</th><th scope=col>&lt;dbl&gt;</th><th scope=col>&lt;dbl&gt;</th><th scope=col>&lt;chr&gt;</th><th scope=col>&lt;chr&gt;</th><th scope=col>&lt;chr&gt;</th><th scope=col>&lt;chr&gt;</th><th scope=col>&lt;chr&gt;</th><th scope=col>&lt;chr&gt;</th><th scope=col>&lt;dbl&gt;</th><th scope=col>&lt;chr&gt;</th><th scope=col>&lt;chr&gt;</th><th scope=col>&lt;chr&gt;</th><th scope=col>&lt;dbl&gt;</th></tr>\n",
       "</thead>\n",
       "<tbody>\n",
       "\t<tr><td>28</td><td>1</td><td>2</td><td>130</td><td>132</td><td>0</td><td>2</td><td>185</td><td>0</td><td>0</td><td>?</td><td>?</td><td>?</td><td>0</td></tr>\n",
       "\t<tr><td>29</td><td>1</td><td>2</td><td>120</td><td>243</td><td>0</td><td>0</td><td>160</td><td>0</td><td>0</td><td>?</td><td>?</td><td>?</td><td>0</td></tr>\n",
       "\t<tr><td>29</td><td>1</td><td>2</td><td>140</td><td>?  </td><td>0</td><td>0</td><td>170</td><td>0</td><td>0</td><td>?</td><td>?</td><td>?</td><td>0</td></tr>\n",
       "\t<tr><td>30</td><td>0</td><td>1</td><td>170</td><td>237</td><td>0</td><td>1</td><td>170</td><td>0</td><td>0</td><td>?</td><td>?</td><td>6</td><td>0</td></tr>\n",
       "\t<tr><td>31</td><td>0</td><td>2</td><td>100</td><td>219</td><td>0</td><td>1</td><td>150</td><td>0</td><td>0</td><td>?</td><td>?</td><td>?</td><td>0</td></tr>\n",
       "\t<tr><td>32</td><td>0</td><td>2</td><td>105</td><td>198</td><td>0</td><td>0</td><td>165</td><td>0</td><td>0</td><td>?</td><td>?</td><td>?</td><td>0</td></tr>\n",
       "</tbody>\n",
       "</table>\n"
      ],
      "text/latex": [
       "A tibble: 6 × 14\n",
       "\\begin{tabular}{llllllllllllll}\n",
       " age & sex & cp & trestbps & chol & fbs & restecg & thalach & exang & oldpeak & slope & ca & thal & num\\\\\n",
       " <dbl> & <dbl> & <dbl> & <chr> & <chr> & <chr> & <chr> & <chr> & <chr> & <dbl> & <chr> & <chr> & <chr> & <dbl>\\\\\n",
       "\\hline\n",
       "\t 28 & 1 & 2 & 130 & 132 & 0 & 2 & 185 & 0 & 0 & ? & ? & ? & 0\\\\\n",
       "\t 29 & 1 & 2 & 120 & 243 & 0 & 0 & 160 & 0 & 0 & ? & ? & ? & 0\\\\\n",
       "\t 29 & 1 & 2 & 140 & ?   & 0 & 0 & 170 & 0 & 0 & ? & ? & ? & 0\\\\\n",
       "\t 30 & 0 & 1 & 170 & 237 & 0 & 1 & 170 & 0 & 0 & ? & ? & 6 & 0\\\\\n",
       "\t 31 & 0 & 2 & 100 & 219 & 0 & 1 & 150 & 0 & 0 & ? & ? & ? & 0\\\\\n",
       "\t 32 & 0 & 2 & 105 & 198 & 0 & 0 & 165 & 0 & 0 & ? & ? & ? & 0\\\\\n",
       "\\end{tabular}\n"
      ],
      "text/markdown": [
       "\n",
       "A tibble: 6 × 14\n",
       "\n",
       "| age &lt;dbl&gt; | sex &lt;dbl&gt; | cp &lt;dbl&gt; | trestbps &lt;chr&gt; | chol &lt;chr&gt; | fbs &lt;chr&gt; | restecg &lt;chr&gt; | thalach &lt;chr&gt; | exang &lt;chr&gt; | oldpeak &lt;dbl&gt; | slope &lt;chr&gt; | ca &lt;chr&gt; | thal &lt;chr&gt; | num &lt;dbl&gt; |\n",
       "|---|---|---|---|---|---|---|---|---|---|---|---|---|---|\n",
       "| 28 | 1 | 2 | 130 | 132 | 0 | 2 | 185 | 0 | 0 | ? | ? | ? | 0 |\n",
       "| 29 | 1 | 2 | 120 | 243 | 0 | 0 | 160 | 0 | 0 | ? | ? | ? | 0 |\n",
       "| 29 | 1 | 2 | 140 | ?   | 0 | 0 | 170 | 0 | 0 | ? | ? | ? | 0 |\n",
       "| 30 | 0 | 1 | 170 | 237 | 0 | 1 | 170 | 0 | 0 | ? | ? | 6 | 0 |\n",
       "| 31 | 0 | 2 | 100 | 219 | 0 | 1 | 150 | 0 | 0 | ? | ? | ? | 0 |\n",
       "| 32 | 0 | 2 | 105 | 198 | 0 | 0 | 165 | 0 | 0 | ? | ? | ? | 0 |\n",
       "\n"
      ],
      "text/plain": [
       "  age sex cp trestbps chol fbs restecg thalach exang oldpeak slope ca thal num\n",
       "1 28  1   2  130      132  0   2       185     0     0       ?     ?  ?    0  \n",
       "2 29  1   2  120      243  0   0       160     0     0       ?     ?  ?    0  \n",
       "3 29  1   2  140      ?    0   0       170     0     0       ?     ?  ?    0  \n",
       "4 30  0   1  170      237  0   1       170     0     0       ?     ?  6    0  \n",
       "5 31  0   2  100      219  0   1       150     0     0       ?     ?  ?    0  \n",
       "6 32  0   2  105      198  0   0       165     0     0       ?     ?  ?    0  "
      ]
     },
     "metadata": {},
     "output_type": "display_data"
    }
   ],
   "source": [
    "switzerland <- read_csv(\"heart_disease_data/processed.switzerland.data\",\n",
    "                        col_names = c(\"age\", \"sex\", \"cp\", \"trestbps\", \"chol\", \"fbs\", \"restecg\",\n",
    "                                      \"thalach\", \"exang\", \"oldpeak\", \"slope\", \"ca\", \"thal\", \"num\"))\n",
    "                #mutate(fbs = if_na(fbs, \"?\")) #|>\n",
    "                #mutate(sex_chr = ifelse(sex == 1, \"male\", \"female\")) #|>\n",
    "                #mutate(sex_chr = ifelse(sex == 1, \"male\", \"female\"))\n",
    "\n",
    "\n",
    "\n",
    "#  16 fbs: (fasting blood sugar > 120 mg/dl)  (1 = true; 0 = false)\n",
    "\n",
    "hungarian <- read_csv(\"heart_disease_data/processed.hungarian.data\",\n",
    "                       col_names = c(\"age\", \"sex\", \"cp\", \"trestbps\", \"chol\", \"fbs\", \"restecg\",\n",
    "                                      \"thalach\", \"exang\", \"oldpeak\", \"slope\", \"ca\", \"thal\", \"num\"))\n",
    "\n",
    "cleveland <- read_csv(\"heart_disease_data/processed.cleveland.data\",\n",
    "                      col_names = c(\"age\", \"sex\", \"cp\", \"trestbps\", \"chol\", \"fbs\", \"restecg\",\n",
    "                                      \"thalach\", \"exang\", \"oldpeak\", \"slope\", \"ca\", \"thal\", \"num\"))\n",
    "va\n",
    "\n",
    "head(switzerland)\n",
    "head(hungarian)\n",
    "head(cleveland)\n",
    "head(va)"
   ]
  },
  {
   "cell_type": "markdown",
   "id": "4c93186b-5fb3-4992-9364-b8c8ecf35640",
   "metadata": {},
   "source": [
    "      3 age: age in years\n",
    "      4 sex: sex (1 = male; 0 = female)\n",
    "      9 cp: chest pain type\n",
    "        -- Value 1: typical angina\n",
    "        -- Value 2: atypical angina\n",
    "        -- Value 3: non-anginal pain\n",
    "        -- Value 4: asymptomatic\n",
    "     10 trestbps: resting blood pressure (in mm Hg on admission to the \n",
    "        hospital)\n",
    "     12 chol: serum cholestoral in mg/dl\n",
    "     16 fbs: (fasting blood sugar > 120 mg/dl)  (1 = true; 0 = false)\n",
    "     19 restecg: resting electrocardiographic results\n",
    "        -- Value 0: normal\n",
    "        -- Value 1: having ST-T wave abnormality (T wave inversions and/or ST \n",
    "                    elevation or depression of > 0.05 mV)\n",
    "        -- Value 2: showing probable or definite left ventricular hypertrophy\n",
    "                    by Estes' criteria\n",
    "     32 thalach: maximum heart rate achieved\n",
    "     38 exang: exercise induced angina (1 = yes; 0 = no)\n",
    "     40 oldpeak = ST depression induced by exercise relative to rest\n",
    "     41 slope: the slope of the peak exercise ST segment\n",
    "        -- Value 1: upsloping\n",
    "        -- Value 2: flat\n",
    "        -- Value 3: downsloping\n",
    "     44 ca: number of major vessels (0-3) colored by flourosopy\n",
    "     51 thal: 3 = normal; 6 = fixed defect; 7 = reversable defect\n",
    "     58 num: diagnosis of heart disease (angiographic disease status)\n",
    "        -- Value 0: < 50% diameter narrowing\n",
    "        -- Value 1: > 50% diameter narrowing\n",
    "        (in any major vessel: attributes 59 through 68 are vessels)\n",
    "\n",
    "9. Missing Attribute Values: Several.  Distinguished with value -9.0."
   ]
  },
  {
   "cell_type": "code",
   "execution_count": null,
   "id": "a3a0f21d-00df-47ac-95ff-c911c8d0451a",
   "metadata": {},
   "outputs": [],
   "source": [
    "#switzerland$sex_changed <- ifelse(switzerland$sex == 1, \"male\", \"female\")\n",
    "#switzerland"
   ]
  }
 ],
 "metadata": {
  "kernelspec": {
   "display_name": "R",
   "language": "R",
   "name": "ir"
  },
  "language_info": {
   "codemirror_mode": "r",
   "file_extension": ".r",
   "mimetype": "text/x-r-source",
   "name": "R",
   "pygments_lexer": "r",
   "version": "4.3.1"
  }
 },
 "nbformat": 4,
 "nbformat_minor": 5
}
